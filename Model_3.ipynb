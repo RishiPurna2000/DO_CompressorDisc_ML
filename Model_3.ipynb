{
 "cells": [
  {
   "cell_type": "code",
   "execution_count": 12,
   "id": "214624e0",
   "metadata": {},
   "outputs": [
    {
     "name": "stdout",
     "output_type": "stream",
     "text": [
      "MAE: 0.20812582537529925\n",
      "MSE: 0.07068839767561799\n",
      "RMSE: 0.2658728975951065\n"
     ]
    },
    {
     "data": {
      "image/png": "[encoded data removed]",
      "text/plain": [
       "<Figure size 432x288 with 1 Axes>"
      ]
     },
     "metadata": {
      "needs_background": "light"
     },
     "output_type": "display_data"
    }
   ],
   "source": [
    "import pandas as pd\n",
    "import numpy as np\n",
    "from sklearn import linear_model\n",
    "from sklearn.preprocessing import PolynomialFeatures\n",
    "import seaborn as sns\n",
    "import matplotlib.pyplot as plt\n",
    "from sklearn import preprocessing\n",
    "%matplotlib inline\n",
    "\n",
    "PM = pd.read_csv(\"DATA_SET.csv\")\n",
    "\n",
    "PM\n",
    "\n",
    "from sklearn.linear_model import LinearRegression\n",
    "reg = LinearRegression()\n",
    "\n",
    "x = PM[['Bore_Radius_mm','Bore_Hight_mm','Rim_Hight_mm','Bore_Width_mm','Web_Thick_mm']]\n",
    "y = PM[['Max_Disp_m','Max_Von_Mises_Pa']]\n",
    "\n",
    "poly = PolynomialFeatures(degree=2)\n",
    "x_poly = poly.fit_transform(x)\n",
    "\n",
    "from sklearn.model_selection import train_test_split\n",
    "\n",
    "x_train,x_test,y_train,y_test = train_test_split(x_poly,y,test_size=0.2)\n",
    "\n",
    "scaler = preprocessing.StandardScaler().fit(x_train)\n",
    "scaler_y = preprocessing.StandardScaler().fit(y_train)\n",
    "scalert = preprocessing.StandardScaler().fit(x_test)\n",
    "scalert_y = preprocessing.StandardScaler().fit(y_test)\n",
    "\n",
    "scaler\n",
    "\n",
    "scaler_y\n",
    "\n",
    "scalert\n",
    "scalert_y\n",
    "\n",
    "scaler.mean_\n",
    "\n",
    "scaler_y.mean_\n",
    "\n",
    "scalert.mean_\n",
    "scalert_y.mean_\n",
    "\n",
    "scaler.scale_\n",
    "\n",
    "scaler_y.scale_\n",
    "\n",
    "scalert.scale_\n",
    "scalert_y.scale_\n",
    "\n",
    "X_scaled = scaler.transform(x_train)\n",
    "\n",
    "Y_scaled = scaler_y.transform(y_train)\n",
    "Xt_scaled = scalert.transform(x_test)\n",
    "Yt_scaled = scalert_y.transform(y_test)\n",
    "\n",
    "X_scaled\n",
    "\n",
    "Y_scaled\n",
    "\n",
    "reg.fit(X_scaled,Y_scaled)\n",
    "\n",
    "reg.coef_\n",
    "\n",
    "reg.intercept_\n",
    "\n",
    "predictions = reg.predict(Xt_scaled)\n",
    "\n",
    "Yt_scaled\n",
    "\n",
    "plt.scatter(Yt_scaled,predictions)\n",
    "\n",
    "from sklearn import metrics\n",
    "\n",
    "print('MAE:',metrics.mean_absolute_error(Yt_scaled,predictions))\n",
    "print('MSE:',metrics.mean_squared_error(Yt_scaled,predictions))\n",
    "print('RMSE:',np.sqrt(metrics.mean_squared_error(Yt_scaled,predictions)))\n",
    "\n"
   ]
  },
  {
   "cell_type": "code",
   "execution_count": null,
   "id": "7393b711",
   "metadata": {},
   "outputs": [],
   "source": []
  },
  {
   "cell_type": "code",
   "execution_count": null,
   "id": "b571b689",
   "metadata": {},
   "outputs": [],
   "source": []
  }
 ],
 "metadata": {
  "kernelspec": {
   "display_name": "Python 3",
   "language": "python",
   "name": "python3"
  },
  "language_info": {
   "codemirror_mode": {
    "name": "ipython",
    "version": 3
   },
   "file_extension": ".py",
   "mimetype": "text/x-python",
   "name": "python",
   "nbconvert_exporter": "python",
   "pygments_lexer": "ipython3",
   "version": "3.8.8"
  }
 },
 "nbformat": 4,
 "nbformat_minor": 5
}
