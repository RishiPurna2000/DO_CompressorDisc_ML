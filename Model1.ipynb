{
 "cells": [
  {
   "cell_type": "code",
   "execution_count": 1,
   "id": "1418265e",
   "metadata": {},
   "outputs": [],
   "source": [
    "import pandas as pd\n",
    "import numpy as np\n",
    "from sklearn import linear_model\n",
    "from sklearn.preprocessing import PolynomialFeatures\n",
    "import seaborn as sns\n",
    "import matplotlib.pyplot as plt\n",
    "%matplotlib inline"
   ]
  },
  {
   "cell_type": "code",
   "execution_count": 2,
   "id": "c7457e0c",
   "metadata": {},
   "outputs": [
    {
     "data": {
      "text/html": [
       "<div>\n",
       "<style scoped>\n",
       "    .dataframe tbody tr th:only-of-type {\n",
       "        vertical-align: middle;\n",
       "    }\n",
       "\n",
       "    .dataframe tbody tr th {\n",
       "        vertical-align: top;\n",
       "    }\n",
       "\n",
       "    .dataframe thead th {\n",
       "        text-align: right;\n",
       "    }\n",
       "</style>\n",
       "<table border=\"1\" class=\"dataframe\">\n",
       "  <thead>\n",
       "    <tr style=\"text-align: right;\">\n",
       "      <th></th>\n",
       "      <th>Bore_Radius_mm</th>\n",
       "      <th>Bore_Hight_mm</th>\n",
       "      <th>Rim_Hight_mm</th>\n",
       "      <th>Bore_Width_mm</th>\n",
       "      <th>Web_Thick_mm</th>\n",
       "      <th>Max_Disp_m</th>\n",
       "      <th>Max_Von_Mises_Pa</th>\n",
       "    </tr>\n",
       "  </thead>\n",
       "  <tbody>\n",
       "    <tr>\n",
       "      <th>0</th>\n",
       "      <td>30</td>\n",
       "      <td>5.0</td>\n",
       "      <td>5.0</td>\n",
       "      <td>14</td>\n",
       "      <td>6</td>\n",
       "      <td>0.000992</td>\n",
       "      <td>722795584.0</td>\n",
       "    </tr>\n",
       "    <tr>\n",
       "      <th>1</th>\n",
       "      <td>35</td>\n",
       "      <td>5.0</td>\n",
       "      <td>5.0</td>\n",
       "      <td>14</td>\n",
       "      <td>6</td>\n",
       "      <td>0.000952</td>\n",
       "      <td>746133440.0</td>\n",
       "    </tr>\n",
       "    <tr>\n",
       "      <th>2</th>\n",
       "      <td>40</td>\n",
       "      <td>5.0</td>\n",
       "      <td>5.0</td>\n",
       "      <td>14</td>\n",
       "      <td>6</td>\n",
       "      <td>0.000909</td>\n",
       "      <td>763889024.0</td>\n",
       "    </tr>\n",
       "    <tr>\n",
       "      <th>3</th>\n",
       "      <td>35</td>\n",
       "      <td>7.5</td>\n",
       "      <td>5.0</td>\n",
       "      <td>14</td>\n",
       "      <td>6</td>\n",
       "      <td>0.000917</td>\n",
       "      <td>707635840.0</td>\n",
       "    </tr>\n",
       "    <tr>\n",
       "      <th>4</th>\n",
       "      <td>30</td>\n",
       "      <td>7.5</td>\n",
       "      <td>5.0</td>\n",
       "      <td>14</td>\n",
       "      <td>6</td>\n",
       "      <td>0.000959</td>\n",
       "      <td>684517376.0</td>\n",
       "    </tr>\n",
       "    <tr>\n",
       "      <th>...</th>\n",
       "      <td>...</td>\n",
       "      <td>...</td>\n",
       "      <td>...</td>\n",
       "      <td>...</td>\n",
       "      <td>...</td>\n",
       "      <td>...</td>\n",
       "      <td>...</td>\n",
       "    </tr>\n",
       "    <tr>\n",
       "      <th>238</th>\n",
       "      <td>35</td>\n",
       "      <td>7.5</td>\n",
       "      <td>10.0</td>\n",
       "      <td>18</td>\n",
       "      <td>8</td>\n",
       "      <td>0.000596</td>\n",
       "      <td>660376320.0</td>\n",
       "    </tr>\n",
       "    <tr>\n",
       "      <th>239</th>\n",
       "      <td>40</td>\n",
       "      <td>7.5</td>\n",
       "      <td>10.0</td>\n",
       "      <td>18</td>\n",
       "      <td>8</td>\n",
       "      <td>0.000575</td>\n",
       "      <td>678176576.0</td>\n",
       "    </tr>\n",
       "    <tr>\n",
       "      <th>240</th>\n",
       "      <td>30</td>\n",
       "      <td>10.0</td>\n",
       "      <td>10.0</td>\n",
       "      <td>18</td>\n",
       "      <td>8</td>\n",
       "      <td>0.000596</td>\n",
       "      <td>618010368.0</td>\n",
       "    </tr>\n",
       "    <tr>\n",
       "      <th>241</th>\n",
       "      <td>35</td>\n",
       "      <td>10.0</td>\n",
       "      <td>10.0</td>\n",
       "      <td>18</td>\n",
       "      <td>8</td>\n",
       "      <td>0.000574</td>\n",
       "      <td>638988672.0</td>\n",
       "    </tr>\n",
       "    <tr>\n",
       "      <th>242</th>\n",
       "      <td>40</td>\n",
       "      <td>10.0</td>\n",
       "      <td>10.0</td>\n",
       "      <td>18</td>\n",
       "      <td>8</td>\n",
       "      <td>0.000553</td>\n",
       "      <td>656732224.0</td>\n",
       "    </tr>\n",
       "  </tbody>\n",
       "</table>\n",
       "<p>243 rows × 7 columns</p>\n",
       "</div>"
      ],
      "text/plain": [
       "     Bore_Radius_mm  Bore_Hight_mm  Rim_Hight_mm  Bore_Width_mm  Web_Thick_mm  \\\n",
       "0                30            5.0           5.0             14             6   \n",
       "1                35            5.0           5.0             14             6   \n",
       "2                40            5.0           5.0             14             6   \n",
       "3                35            7.5           5.0             14             6   \n",
       "4                30            7.5           5.0             14             6   \n",
       "..              ...            ...           ...            ...           ...   \n",
       "238              35            7.5          10.0             18             8   \n",
       "239              40            7.5          10.0             18             8   \n",
       "240              30           10.0          10.0             18             8   \n",
       "241              35           10.0          10.0             18             8   \n",
       "242              40           10.0          10.0             18             8   \n",
       "\n",
       "     Max_Disp_m  Max_Von_Mises_Pa  \n",
       "0      0.000992       722795584.0  \n",
       "1      0.000952       746133440.0  \n",
       "2      0.000909       763889024.0  \n",
       "3      0.000917       707635840.0  \n",
       "4      0.000959       684517376.0  \n",
       "..          ...               ...  \n",
       "238    0.000596       660376320.0  \n",
       "239    0.000575       678176576.0  \n",
       "240    0.000596       618010368.0  \n",
       "241    0.000574       638988672.0  \n",
       "242    0.000553       656732224.0  \n",
       "\n",
       "[243 rows x 7 columns]"
      ]
     },
     "execution_count": 2,
     "metadata": {},
     "output_type": "execute_result"
    }
   ],
   "source": [
    "df = pd.read_csv(\"DATA_SET.csv\")\n",
    "df"
   ]
  },
  {
   "cell_type": "code",
   "execution_count": 3,
   "id": "21414650",
   "metadata": {},
   "outputs": [],
   "source": [
    "poly = PolynomialFeatures(degree=3)\n",
    "x_poly = poly.fit_transform(df[['Bore_Radius_mm','Bore_Hight_mm','Rim_Hight_mm','Bore_Width_mm','Web_Thick_mm']])"
   ]
  },
  {
   "cell_type": "code",
   "execution_count": 4,
   "id": "881ebff1",
   "metadata": {},
   "outputs": [
    {
     "data": {
      "text/plain": [
       "LinearRegression()"
      ]
     },
     "execution_count": 4,
     "metadata": {},
     "output_type": "execute_result"
    }
   ],
   "source": [
    "\n",
    "reg = linear_model.LinearRegression()\n",
    "reg.fit(x_poly,df[['Max_Disp_m','Max_Von_Mises_Pa']])"
   ]
  },
  {
   "cell_type": "code",
   "execution_count": 5,
   "id": "14a058f5",
   "metadata": {},
   "outputs": [
    {
     "data": {
      "text/plain": [
       "array([[ 1.24526143e-16, -1.27288974e-08, -1.90052411e-09,\n",
       "        -3.34066935e-06,  1.24810526e-07,  9.10157410e-07,\n",
       "        -4.42456485e-07, -1.61700741e-07,  1.42557556e-06,\n",
       "        -9.49341204e-07,  2.19330648e-06, -1.39598989e-08,\n",
       "         1.45583630e-06,  5.65728704e-07, -5.90834907e-06,\n",
       "        -2.40653752e-05,  2.36465556e-06,  1.39470620e-05,\n",
       "         1.98584561e-06, -1.52072176e-05,  5.17025877e-06,\n",
       "         2.54453090e-09,  3.73807407e-09,  3.30696296e-09,\n",
       "         1.02427778e-08, -9.18851852e-09,  6.15703704e-09,\n",
       "         5.55111111e-09, -8.93055556e-09, -2.48055556e-08,\n",
       "        -3.06056296e-08,  2.32000000e-08, -1.74237778e-07,\n",
       "         3.04398148e-09, -4.49791667e-08,  1.88795370e-07,\n",
       "        -5.26255593e-09, -1.64734815e-08, -2.47177778e-08,\n",
       "         1.04577037e-07, -4.02494815e-08, -1.91922222e-08,\n",
       "         2.58455556e-08,  2.02879630e-08, -5.10291667e-08,\n",
       "         4.00743519e-07,  1.38782757e-06, -6.39355556e-08,\n",
       "        -4.83389630e-07, -7.20342593e-08,  2.01181944e-07,\n",
       "         1.08974074e-07, -3.46522138e-08,  1.46703704e-07,\n",
       "         5.83680556e-07, -1.59171281e-06],\n",
       "       [ 1.29533048e-04,  2.50572511e+04, -9.11089206e+05,\n",
       "         2.59343192e+05,  7.97550207e+04,  5.38063686e+06,\n",
       "         8.70956027e+05, -2.07837073e+06,  1.97719656e+05,\n",
       "        -2.74945763e+06,  1.93681129e+06, -6.56367953e+06,\n",
       "        -4.00221819e+05,  1.09171457e+07, -6.98576012e+06,\n",
       "         1.86903517e+06, -4.18065896e+05, -2.52216800e+06,\n",
       "         1.27280727e+06, -1.64404864e+07,  3.09347366e+07,\n",
       "        -8.58389350e+03,  2.11280972e+04, -3.05651674e+03,\n",
       "         2.81867970e+04, -8.68936296e+04,  1.84912024e+04,\n",
       "         1.13233636e+04, -1.36391182e+05,  3.29189049e+05,\n",
       "        -7.08018252e+03,  1.58817778e+04, -3.92097778e+04,\n",
       "        -8.15129185e+04,  6.39227556e+05, -6.36785719e+05,\n",
       "         3.69206454e+05, -2.05094305e+04,  6.42768592e+03,\n",
       "        -2.20345363e+05,  6.21302519e+03, -2.21292089e+04,\n",
       "         9.95609600e+04,  5.57853630e+04, -1.06937164e+06,\n",
       "         1.13508563e+06, -8.99773657e+04,  1.45558281e+04,\n",
       "         1.72166637e+04, -3.14815407e+04,  1.39348711e+05,\n",
       "         1.23934814e+03,  1.61913276e+05, -8.21951852e+05,\n",
       "         2.02583437e+06, -2.76097361e+06]])"
      ]
     },
     "execution_count": 5,
     "metadata": {},
     "output_type": "execute_result"
    }
   ],
   "source": [
    "reg.coef_"
   ]
  },
  {
   "cell_type": "code",
   "execution_count": 6,
   "id": "cf3ae0ec",
   "metadata": {},
   "outputs": [
    {
     "data": {
      "text/plain": [
       "array([1.70217319e-03, 7.26078199e+08])"
      ]
     },
     "execution_count": 6,
     "metadata": {},
     "output_type": "execute_result"
    }
   ],
   "source": [
    "reg.intercept_"
   ]
  },
  {
   "cell_type": "code",
   "execution_count": 7,
   "id": "9acc64c3",
   "metadata": {},
   "outputs": [
    {
     "ename": "KeyError",
     "evalue": "\"None of [Index(['38', '5', '5', '14', '4'], dtype='object')] are in the [columns]\"",
     "output_type": "error",
     "traceback": [
      "\u001b[1;31m---------------------------------------------------------------------------\u001b[0m",
      "\u001b[1;31mKeyError\u001b[0m                                  Traceback (most recent call last)",
      "\u001b[1;32m<ipython-input-7-d4128288bdb5>\u001b[0m in \u001b[0;36m<module>\u001b[1;34m\u001b[0m\n\u001b[1;32m----> 1\u001b[1;33m \u001b[0mx_pred\u001b[0m \u001b[1;33m=\u001b[0m \u001b[0mpoly\u001b[0m\u001b[1;33m.\u001b[0m\u001b[0mfit_transform\u001b[0m\u001b[1;33m(\u001b[0m\u001b[0mdf\u001b[0m\u001b[1;33m[\u001b[0m\u001b[1;33m[\u001b[0m\u001b[1;34m'38'\u001b[0m\u001b[1;33m,\u001b[0m\u001b[1;34m'5'\u001b[0m\u001b[1;33m,\u001b[0m\u001b[1;34m'5'\u001b[0m\u001b[1;33m,\u001b[0m\u001b[1;34m'14'\u001b[0m\u001b[1;33m,\u001b[0m\u001b[1;34m'4'\u001b[0m\u001b[1;33m]\u001b[0m\u001b[1;33m]\u001b[0m\u001b[1;33m)\u001b[0m\u001b[1;33m\u001b[0m\u001b[1;33m\u001b[0m\u001b[0m\n\u001b[0m",
      "\u001b[1;32mC:\\ProgramData\\Anaconda3\\lib\\site-packages\\pandas\\core\\frame.py\u001b[0m in \u001b[0;36m__getitem__\u001b[1;34m(self, key)\u001b[0m\n\u001b[0;32m   3028\u001b[0m             \u001b[1;32mif\u001b[0m \u001b[0mis_iterator\u001b[0m\u001b[1;33m(\u001b[0m\u001b[0mkey\u001b[0m\u001b[1;33m)\u001b[0m\u001b[1;33m:\u001b[0m\u001b[1;33m\u001b[0m\u001b[1;33m\u001b[0m\u001b[0m\n\u001b[0;32m   3029\u001b[0m                 \u001b[0mkey\u001b[0m \u001b[1;33m=\u001b[0m \u001b[0mlist\u001b[0m\u001b[1;33m(\u001b[0m\u001b[0mkey\u001b[0m\u001b[1;33m)\u001b[0m\u001b[1;33m\u001b[0m\u001b[1;33m\u001b[0m\u001b[0m\n\u001b[1;32m-> 3030\u001b[1;33m             \u001b[0mindexer\u001b[0m \u001b[1;33m=\u001b[0m \u001b[0mself\u001b[0m\u001b[1;33m.\u001b[0m\u001b[0mloc\u001b[0m\u001b[1;33m.\u001b[0m\u001b[0m_get_listlike_indexer\u001b[0m\u001b[1;33m(\u001b[0m\u001b[0mkey\u001b[0m\u001b[1;33m,\u001b[0m \u001b[0maxis\u001b[0m\u001b[1;33m=\u001b[0m\u001b[1;36m1\u001b[0m\u001b[1;33m,\u001b[0m \u001b[0mraise_missing\u001b[0m\u001b[1;33m=\u001b[0m\u001b[1;32mTrue\u001b[0m\u001b[1;33m)\u001b[0m\u001b[1;33m[\u001b[0m\u001b[1;36m1\u001b[0m\u001b[1;33m]\u001b[0m\u001b[1;33m\u001b[0m\u001b[1;33m\u001b[0m\u001b[0m\n\u001b[0m\u001b[0;32m   3031\u001b[0m \u001b[1;33m\u001b[0m\u001b[0m\n\u001b[0;32m   3032\u001b[0m         \u001b[1;31m# take() does not accept boolean indexers\u001b[0m\u001b[1;33m\u001b[0m\u001b[1;33m\u001b[0m\u001b[1;33m\u001b[0m\u001b[0m\n",
      "\u001b[1;32mC:\\ProgramData\\Anaconda3\\lib\\site-packages\\pandas\\core\\indexing.py\u001b[0m in \u001b[0;36m_get_listlike_indexer\u001b[1;34m(self, key, axis, raise_missing)\u001b[0m\n\u001b[0;32m   1264\u001b[0m             \u001b[0mkeyarr\u001b[0m\u001b[1;33m,\u001b[0m \u001b[0mindexer\u001b[0m\u001b[1;33m,\u001b[0m \u001b[0mnew_indexer\u001b[0m \u001b[1;33m=\u001b[0m \u001b[0max\u001b[0m\u001b[1;33m.\u001b[0m\u001b[0m_reindex_non_unique\u001b[0m\u001b[1;33m(\u001b[0m\u001b[0mkeyarr\u001b[0m\u001b[1;33m)\u001b[0m\u001b[1;33m\u001b[0m\u001b[1;33m\u001b[0m\u001b[0m\n\u001b[0;32m   1265\u001b[0m \u001b[1;33m\u001b[0m\u001b[0m\n\u001b[1;32m-> 1266\u001b[1;33m         \u001b[0mself\u001b[0m\u001b[1;33m.\u001b[0m\u001b[0m_validate_read_indexer\u001b[0m\u001b[1;33m(\u001b[0m\u001b[0mkeyarr\u001b[0m\u001b[1;33m,\u001b[0m \u001b[0mindexer\u001b[0m\u001b[1;33m,\u001b[0m \u001b[0maxis\u001b[0m\u001b[1;33m,\u001b[0m \u001b[0mraise_missing\u001b[0m\u001b[1;33m=\u001b[0m\u001b[0mraise_missing\u001b[0m\u001b[1;33m)\u001b[0m\u001b[1;33m\u001b[0m\u001b[1;33m\u001b[0m\u001b[0m\n\u001b[0m\u001b[0;32m   1267\u001b[0m         \u001b[1;32mreturn\u001b[0m \u001b[0mkeyarr\u001b[0m\u001b[1;33m,\u001b[0m \u001b[0mindexer\u001b[0m\u001b[1;33m\u001b[0m\u001b[1;33m\u001b[0m\u001b[0m\n\u001b[0;32m   1268\u001b[0m \u001b[1;33m\u001b[0m\u001b[0m\n",
      "\u001b[1;32mC:\\ProgramData\\Anaconda3\\lib\\site-packages\\pandas\\core\\indexing.py\u001b[0m in \u001b[0;36m_validate_read_indexer\u001b[1;34m(self, key, indexer, axis, raise_missing)\u001b[0m\n\u001b[0;32m   1306\u001b[0m             \u001b[1;32mif\u001b[0m \u001b[0mmissing\u001b[0m \u001b[1;33m==\u001b[0m \u001b[0mlen\u001b[0m\u001b[1;33m(\u001b[0m\u001b[0mindexer\u001b[0m\u001b[1;33m)\u001b[0m\u001b[1;33m:\u001b[0m\u001b[1;33m\u001b[0m\u001b[1;33m\u001b[0m\u001b[0m\n\u001b[0;32m   1307\u001b[0m                 \u001b[0maxis_name\u001b[0m \u001b[1;33m=\u001b[0m \u001b[0mself\u001b[0m\u001b[1;33m.\u001b[0m\u001b[0mobj\u001b[0m\u001b[1;33m.\u001b[0m\u001b[0m_get_axis_name\u001b[0m\u001b[1;33m(\u001b[0m\u001b[0maxis\u001b[0m\u001b[1;33m)\u001b[0m\u001b[1;33m\u001b[0m\u001b[1;33m\u001b[0m\u001b[0m\n\u001b[1;32m-> 1308\u001b[1;33m                 \u001b[1;32mraise\u001b[0m \u001b[0mKeyError\u001b[0m\u001b[1;33m(\u001b[0m\u001b[1;34mf\"None of [{key}] are in the [{axis_name}]\"\u001b[0m\u001b[1;33m)\u001b[0m\u001b[1;33m\u001b[0m\u001b[1;33m\u001b[0m\u001b[0m\n\u001b[0m\u001b[0;32m   1309\u001b[0m \u001b[1;33m\u001b[0m\u001b[0m\n\u001b[0;32m   1310\u001b[0m             \u001b[0max\u001b[0m \u001b[1;33m=\u001b[0m \u001b[0mself\u001b[0m\u001b[1;33m.\u001b[0m\u001b[0mobj\u001b[0m\u001b[1;33m.\u001b[0m\u001b[0m_get_axis\u001b[0m\u001b[1;33m(\u001b[0m\u001b[0maxis\u001b[0m\u001b[1;33m)\u001b[0m\u001b[1;33m\u001b[0m\u001b[1;33m\u001b[0m\u001b[0m\n",
      "\u001b[1;31mKeyError\u001b[0m: \"None of [Index(['38', '5', '5', '14', '4'], dtype='object')] are in the [columns]\""
     ]
    }
   ],
   "source": [
    "x_pred = poly.fit_transform(df[['38','5','5','14','4']])"
   ]
  },
  {
   "cell_type": "code",
   "execution_count": null,
   "id": "412562ef",
   "metadata": {},
   "outputs": [],
   "source": [
    "reg.predict(x_pred)"
   ]
  },
  {
   "cell_type": "code",
   "execution_count": null,
   "id": "e090d146",
   "metadata": {},
   "outputs": [],
   "source": [
    "reg.predict([[30,10,5,18,4]])"
   ]
  },
  {
   "cell_type": "code",
   "execution_count": null,
   "id": "94d2ae6e",
   "metadata": {},
   "outputs": [],
   "source": [
    "X=np.array([[1,2,3,4,5]])\n",
    "poly = PolynomialFeatures()\n",
    "X_poly=poly.fit_transform(X)\n",
    "X_poly"
   ]
  },
  {
   "cell_type": "code",
   "execution_count": null,
   "id": "777c94f9",
   "metadata": {},
   "outputs": [],
   "source": [
    "Y=np.array([[30,10,5,18,4]])\n",
    "poly = PolynomialFeatures(3)\n",
    "Y_poly=poly.fit_transform(Y)\n",
    "reg.predict(Y_poly)"
   ]
  },
  {
   "cell_type": "code",
   "execution_count": null,
   "id": "121010f0",
   "metadata": {},
   "outputs": [],
   "source": []
  }
 ],
 "metadata": {
  "kernelspec": {
   "display_name": "Python 3",
   "language": "python",
   "name": "python3"
  },
  "language_info": {
   "codemirror_mode": {
    "name": "ipython",
    "version": 3
   },
   "file_extension": ".py",
   "mimetype": "text/x-python",
   "name": "python",
   "nbconvert_exporter": "python",
   "pygments_lexer": "ipython3",
   "version": "3.8.8"
  }
 },
 "nbformat": 4,
 "nbformat_minor": 5
}
