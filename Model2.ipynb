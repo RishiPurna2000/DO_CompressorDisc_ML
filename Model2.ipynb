{
 "cells": [
  {
   "cell_type": "code",
   "execution_count": 86,
   "id": "59deaadf",
   "metadata": {},
   "outputs": [],
   "source": [
    "import pandas as pd\n",
    "import numpy as np\n",
    "from sklearn import linear_model\n",
    "from sklearn.preprocessing import PolynomialFeatures\n",
    "import seaborn as sns\n",
    "import matplotlib.pyplot as plt\n",
    "from sklearn import preprocessing\n",
    "from mlxtend.evaluate import bias_variance_decomp\n",
    "from sklearn.model_selection import train_test_split\n",
    "from sklearn.metrics import explained_variance_score\n",
    "from sklearn.model_selection import cross_val_score\n",
    "%matplotlib inline"
   ]
  },
  {
   "cell_type": "code",
   "execution_count": 87,
   "id": "a9e8ea66",
   "metadata": {},
   "outputs": [],
   "source": [
    "PM = pd.read_csv(\"DATA_SET.csv\")"
   ]
  },
  {
   "cell_type": "code",
   "execution_count": 88,
   "id": "1cf22d29",
   "metadata": {
    "scrolled": true
   },
   "outputs": [
    {
     "data": {
      "text/html": [
       "<div>\n",
       "<style scoped>\n",
       "    .dataframe tbody tr th:only-of-type {\n",
       "        vertical-align: middle;\n",
       "    }\n",
       "\n",
       "    .dataframe tbody tr th {\n",
       "        vertical-align: top;\n",
       "    }\n",
       "\n",
       "    .dataframe thead th {\n",
       "        text-align: right;\n",
       "    }\n",
       "</style>\n",
       "<table border=\"1\" class=\"dataframe\">\n",
       "  <thead>\n",
       "    <tr style=\"text-align: right;\">\n",
       "      <th></th>\n",
       "      <th>Bore_Radius_mm</th>\n",
       "      <th>Bore_Hight_mm</th>\n",
       "      <th>Rim_Hight_mm</th>\n",
       "      <th>Bore_Width_mm</th>\n",
       "      <th>Web_Thick_mm</th>\n",
       "      <th>Max_Disp_m</th>\n",
       "      <th>Max_Von_Mises_Pa</th>\n",
       "    </tr>\n",
       "  </thead>\n",
       "  <tbody>\n",
       "    <tr>\n",
       "      <th>0</th>\n",
       "      <td>30</td>\n",
       "      <td>5.0</td>\n",
       "      <td>5.0</td>\n",
       "      <td>14</td>\n",
       "      <td>6</td>\n",
       "      <td>0.000992</td>\n",
       "      <td>722795584.0</td>\n",
       "    </tr>\n",
       "    <tr>\n",
       "      <th>1</th>\n",
       "      <td>35</td>\n",
       "      <td>5.0</td>\n",
       "      <td>5.0</td>\n",
       "      <td>14</td>\n",
       "      <td>6</td>\n",
       "      <td>0.000952</td>\n",
       "      <td>746133440.0</td>\n",
       "    </tr>\n",
       "    <tr>\n",
       "      <th>2</th>\n",
       "      <td>40</td>\n",
       "      <td>5.0</td>\n",
       "      <td>5.0</td>\n",
       "      <td>14</td>\n",
       "      <td>6</td>\n",
       "      <td>0.000909</td>\n",
       "      <td>763889024.0</td>\n",
       "    </tr>\n",
       "    <tr>\n",
       "      <th>3</th>\n",
       "      <td>35</td>\n",
       "      <td>7.5</td>\n",
       "      <td>5.0</td>\n",
       "      <td>14</td>\n",
       "      <td>6</td>\n",
       "      <td>0.000917</td>\n",
       "      <td>707635840.0</td>\n",
       "    </tr>\n",
       "    <tr>\n",
       "      <th>4</th>\n",
       "      <td>30</td>\n",
       "      <td>7.5</td>\n",
       "      <td>5.0</td>\n",
       "      <td>14</td>\n",
       "      <td>6</td>\n",
       "      <td>0.000959</td>\n",
       "      <td>684517376.0</td>\n",
       "    </tr>\n",
       "    <tr>\n",
       "      <th>...</th>\n",
       "      <td>...</td>\n",
       "      <td>...</td>\n",
       "      <td>...</td>\n",
       "      <td>...</td>\n",
       "      <td>...</td>\n",
       "      <td>...</td>\n",
       "      <td>...</td>\n",
       "    </tr>\n",
       "    <tr>\n",
       "      <th>238</th>\n",
       "      <td>35</td>\n",
       "      <td>7.5</td>\n",
       "      <td>10.0</td>\n",
       "      <td>18</td>\n",
       "      <td>8</td>\n",
       "      <td>0.000596</td>\n",
       "      <td>660376320.0</td>\n",
       "    </tr>\n",
       "    <tr>\n",
       "      <th>239</th>\n",
       "      <td>40</td>\n",
       "      <td>7.5</td>\n",
       "      <td>10.0</td>\n",
       "      <td>18</td>\n",
       "      <td>8</td>\n",
       "      <td>0.000575</td>\n",
       "      <td>678176576.0</td>\n",
       "    </tr>\n",
       "    <tr>\n",
       "      <th>240</th>\n",
       "      <td>30</td>\n",
       "      <td>10.0</td>\n",
       "      <td>10.0</td>\n",
       "      <td>18</td>\n",
       "      <td>8</td>\n",
       "      <td>0.000596</td>\n",
       "      <td>618010368.0</td>\n",
       "    </tr>\n",
       "    <tr>\n",
       "      <th>241</th>\n",
       "      <td>35</td>\n",
       "      <td>10.0</td>\n",
       "      <td>10.0</td>\n",
       "      <td>18</td>\n",
       "      <td>8</td>\n",
       "      <td>0.000574</td>\n",
       "      <td>638988672.0</td>\n",
       "    </tr>\n",
       "    <tr>\n",
       "      <th>242</th>\n",
       "      <td>40</td>\n",
       "      <td>10.0</td>\n",
       "      <td>10.0</td>\n",
       "      <td>18</td>\n",
       "      <td>8</td>\n",
       "      <td>0.000553</td>\n",
       "      <td>656732224.0</td>\n",
       "    </tr>\n",
       "  </tbody>\n",
       "</table>\n",
       "<p>243 rows × 7 columns</p>\n",
       "</div>"
      ],
      "text/plain": [
       "     Bore_Radius_mm  Bore_Hight_mm  Rim_Hight_mm  Bore_Width_mm  Web_Thick_mm  \\\n",
       "0                30            5.0           5.0             14             6   \n",
       "1                35            5.0           5.0             14             6   \n",
       "2                40            5.0           5.0             14             6   \n",
       "3                35            7.5           5.0             14             6   \n",
       "4                30            7.5           5.0             14             6   \n",
       "..              ...            ...           ...            ...           ...   \n",
       "238              35            7.5          10.0             18             8   \n",
       "239              40            7.5          10.0             18             8   \n",
       "240              30           10.0          10.0             18             8   \n",
       "241              35           10.0          10.0             18             8   \n",
       "242              40           10.0          10.0             18             8   \n",
       "\n",
       "     Max_Disp_m  Max_Von_Mises_Pa  \n",
       "0      0.000992       722795584.0  \n",
       "1      0.000952       746133440.0  \n",
       "2      0.000909       763889024.0  \n",
       "3      0.000917       707635840.0  \n",
       "4      0.000959       684517376.0  \n",
       "..          ...               ...  \n",
       "238    0.000596       660376320.0  \n",
       "239    0.000575       678176576.0  \n",
       "240    0.000596       618010368.0  \n",
       "241    0.000574       638988672.0  \n",
       "242    0.000553       656732224.0  \n",
       "\n",
       "[243 rows x 7 columns]"
      ]
     },
     "execution_count": 88,
     "metadata": {},
     "output_type": "execute_result"
    }
   ],
   "source": [
    "PM"
   ]
  },
  {
   "cell_type": "code",
   "execution_count": 89,
   "id": "703c5d63",
   "metadata": {},
   "outputs": [],
   "source": [
    "from sklearn.linear_model import LinearRegression\n",
    "reg = LinearRegression()"
   ]
  },
  {
   "cell_type": "code",
   "execution_count": 90,
   "id": "edb2f65a",
   "metadata": {},
   "outputs": [],
   "source": [
    "x = PM[['Bore_Radius_mm','Bore_Hight_mm','Rim_Hight_mm','Bore_Width_mm','Web_Thick_mm']]\n",
    "y = PM[['Max_Disp_m','Max_Von_Mises_Pa']]"
   ]
  },
  {
   "cell_type": "code",
   "execution_count": 91,
   "id": "938e5402",
   "metadata": {},
   "outputs": [],
   "source": [
    "x1_train,x1_test,y1_train,y1_test = train_test_split(x,y,test_size=0.2)"
   ]
  },
  {
   "cell_type": "code",
   "execution_count": 92,
   "id": "d0354f65",
   "metadata": {},
   "outputs": [],
   "source": [
    "scaler1 = preprocessing.StandardScaler().fit(x1_train)\n",
    "scaler1_y = preprocessing.StandardScaler().fit(y1_train)\n",
    "scalert1 = preprocessing.StandardScaler().fit(x1_test)\n",
    "scalert1_y = preprocessing.StandardScaler().fit(y1_test)"
   ]
  },
  {
   "cell_type": "code",
   "execution_count": 93,
   "id": "709adef5",
   "metadata": {},
   "outputs": [],
   "source": [
    "X1_scaled = scaler1.transform(x1_train)\n",
    "Y1_scaled = scaler1_y.transform(y1_train)\n",
    "Xt1_scaled = scalert1.transform(x1_test)\n",
    "Yt1_scaled = scalert1_y.transform(y1_test)"
   ]
  },
  {
   "cell_type": "code",
   "execution_count": 94,
   "id": "586fd283",
   "metadata": {},
   "outputs": [],
   "source": [
    "poly = PolynomialFeatures(degree=2)\n",
    "x_poly = poly.fit_transform(x)"
   ]
  },
  {
   "cell_type": "code",
   "execution_count": 95,
   "id": "9946ff84",
   "metadata": {},
   "outputs": [],
   "source": [
    "from sklearn.model_selection import train_test_split"
   ]
  },
  {
   "cell_type": "code",
   "execution_count": 96,
   "id": "a83b5600",
   "metadata": {},
   "outputs": [],
   "source": [
    "x_train,x_test,y_train,y_test = train_test_split(x_poly,y,test_size=0.2)"
   ]
  },
  {
   "cell_type": "code",
   "execution_count": 97,
   "id": "5d2df15d",
   "metadata": {},
   "outputs": [],
   "source": [
    "scaler = preprocessing.StandardScaler().fit(x_train)\n",
    "scaler_y = preprocessing.StandardScaler().fit(y_train)\n",
    "scalert = preprocessing.StandardScaler().fit(x_test)\n",
    "scalert_y = preprocessing.StandardScaler().fit(y_test)"
   ]
  },
  {
   "cell_type": "code",
   "execution_count": 98,
   "id": "f1921b4d",
   "metadata": {},
   "outputs": [
    {
     "data": {
      "text/plain": [
       "StandardScaler()"
      ]
     },
     "execution_count": 98,
     "metadata": {},
     "output_type": "execute_result"
    }
   ],
   "source": [
    "scaler"
   ]
  },
  {
   "cell_type": "code",
   "execution_count": 99,
   "id": "8f476c43",
   "metadata": {},
   "outputs": [
    {
     "data": {
      "text/plain": [
       "StandardScaler()"
      ]
     },
     "execution_count": 99,
     "metadata": {},
     "output_type": "execute_result"
    }
   ],
   "source": [
    "scaler_y"
   ]
  },
  {
   "cell_type": "code",
   "execution_count": 100,
   "id": "8ec5053b",
   "metadata": {},
   "outputs": [
    {
     "data": {
      "text/plain": [
       "StandardScaler()"
      ]
     },
     "execution_count": 100,
     "metadata": {},
     "output_type": "execute_result"
    }
   ],
   "source": [
    "scalert\n",
    "scalert_y"
   ]
  },
  {
   "cell_type": "code",
   "execution_count": 101,
   "id": "ea986fe4",
   "metadata": {},
   "outputs": [
    {
     "data": {
      "text/plain": [
       "array([1.00000000e+00, 3.49742268e+01, 7.68041237e+00, 7.51288660e+00,\n",
       "       1.59896907e+01, 5.91752577e+00, 1.24033505e+03, 2.68621134e+02,\n",
       "       2.62757732e+02, 5.59329897e+02, 2.06804124e+02, 6.31443299e+01,\n",
       "       5.77319588e+01, 1.22938144e+02, 4.54381443e+01, 6.05992268e+01,\n",
       "       1.19871134e+02, 4.43556701e+01, 2.58288660e+02, 9.46391753e+01,\n",
       "       3.76494845e+01])"
      ]
     },
     "execution_count": 101,
     "metadata": {},
     "output_type": "execute_result"
    }
   ],
   "source": [
    "scaler.mean_"
   ]
  },
  {
   "cell_type": "code",
   "execution_count": 102,
   "id": "e234b021",
   "metadata": {},
   "outputs": [
    {
     "data": {
      "text/plain": [
       "array([7.75055959e-04, 6.60279151e+08])"
      ]
     },
     "execution_count": 102,
     "metadata": {},
     "output_type": "execute_result"
    }
   ],
   "source": [
    "scaler_y.mean_"
   ]
  },
  {
   "cell_type": "code",
   "execution_count": 103,
   "id": "957e7e7b",
   "metadata": {},
   "outputs": [
    {
     "data": {
      "text/plain": [
       "array([7.73768490e-04, 6.78181644e+08])"
      ]
     },
     "execution_count": 103,
     "metadata": {},
     "output_type": "execute_result"
    }
   ],
   "source": [
    "scalert.mean_\n",
    "scalert_y.mean_"
   ]
  },
  {
   "cell_type": "code",
   "execution_count": 104,
   "id": "b01c5d46",
   "metadata": {},
   "outputs": [
    {
     "data": {
      "text/plain": [
       "array([  1.        ,   4.13986848,   2.03852783,   2.03856856,\n",
       "         1.61816267,   1.62245902, 289.97425429,  78.32245347,\n",
       "        78.42233381,  88.16025961,  61.73682742,  30.89990147,\n",
       "        22.31512672,  35.56432083,  17.59184408,  30.73367494,\n",
       "        34.08387005,  17.17022999,  51.80732718,  27.8220359 ,\n",
       "        19.49255276])"
      ]
     },
     "execution_count": 104,
     "metadata": {},
     "output_type": "execute_result"
    }
   ],
   "source": [
    "scaler.scale_"
   ]
  },
  {
   "cell_type": "code",
   "execution_count": 105,
   "id": "57189867",
   "metadata": {},
   "outputs": [
    {
     "data": {
      "text/plain": [
       "array([1.04105905e-04, 5.41406981e+07])"
      ]
     },
     "execution_count": 105,
     "metadata": {},
     "output_type": "execute_result"
    }
   ],
   "source": [
    "scaler_y.scale_"
   ]
  },
  {
   "cell_type": "code",
   "execution_count": 106,
   "id": "6c6a962d",
   "metadata": {},
   "outputs": [
    {
     "data": {
      "text/plain": [
       "array([1.18104319e-04, 5.37866556e+07])"
      ]
     },
     "execution_count": 106,
     "metadata": {},
     "output_type": "execute_result"
    }
   ],
   "source": [
    "scalert.scale_\n",
    "scalert_y.scale_"
   ]
  },
  {
   "cell_type": "code",
   "execution_count": 107,
   "id": "9277d291",
   "metadata": {},
   "outputs": [],
   "source": [
    "X_scaled = scaler.transform(x_train)"
   ]
  },
  {
   "cell_type": "code",
   "execution_count": 108,
   "id": "080f3ab3",
   "metadata": {},
   "outputs": [],
   "source": [
    "Y_scaled = scaler_y.transform(y_train)\n",
    "Xt_scaled = scalert.transform(x_test)\n",
    "Yt_scaled = scalert_y.transform(y_test)"
   ]
  },
  {
   "cell_type": "code",
   "execution_count": null,
   "id": "c3910cdd",
   "metadata": {},
   "outputs": [],
   "source": []
  },
  {
   "cell_type": "code",
   "execution_count": 109,
   "id": "5437e210",
   "metadata": {},
   "outputs": [
    {
     "data": {
      "text/plain": [
       "array([[ 0.        ,  0.00622561, -0.0885013 , ..., -1.20231371,\n",
       "        -0.38240103, -0.08462127],\n",
       "       [ 0.        , -1.20154223, -0.0885013 , ...,  1.26837928,\n",
       "         0.48022455, -0.08462127],\n",
       "       [ 0.        ,  1.21399345, -1.31487652, ...,  1.26837928,\n",
       "        -0.81371383, -1.11065415],\n",
       "       ...,\n",
       "       [ 0.        ,  1.21399345, -1.31487652, ..., -0.04417637,\n",
       "        -1.10125569, -1.11065415],\n",
       "       [ 0.        ,  0.00622561,  1.13787391, ...,  1.26837928,\n",
       "        -0.81371383, -1.11065415],\n",
       "       [ 0.        , -1.20154223, -1.31487652, ..., -0.04417637,\n",
       "        -1.10125569, -1.11065415]])"
      ]
     },
     "execution_count": 109,
     "metadata": {},
     "output_type": "execute_result"
    }
   ],
   "source": [
    "X_scaled"
   ]
  },
  {
   "cell_type": "code",
   "execution_count": 110,
   "id": "5c241df2",
   "metadata": {},
   "outputs": [
    {
     "data": {
      "text/plain": [
       "388"
      ]
     },
     "execution_count": 110,
     "metadata": {},
     "output_type": "execute_result"
    }
   ],
   "source": [
    "Y_scaled.size"
   ]
  },
  {
   "cell_type": "code",
   "execution_count": 111,
   "id": "17c83205",
   "metadata": {},
   "outputs": [
    {
     "data": {
      "text/plain": [
       "LinearRegression()"
      ]
     },
     "execution_count": 111,
     "metadata": {},
     "output_type": "execute_result"
    }
   ],
   "source": [
    "reg.fit(X_scaled,Y_scaled)"
   ]
  },
  {
   "cell_type": "code",
   "execution_count": 112,
   "id": "d71193e9",
   "metadata": {},
   "outputs": [
    {
     "data": {
      "text/plain": [
       "array([[ 0.00000000e+00, -5.57095657e-01, -2.23517419e-01,\n",
       "        -2.62304297e+00, -3.65022955e-01, -2.71809843e-01,\n",
       "        -6.21347949e-02, -5.04980599e-02,  4.08803031e-01,\n",
       "        -2.51937315e-01,  9.19630785e-01,  7.55410956e-02,\n",
       "         1.41493562e-01,  3.43249904e-02, -1.68657651e-01,\n",
       "         5.58422451e-01,  3.28342732e-01,  8.72102165e-01,\n",
       "         5.09732284e-01, -1.05801009e+00, -6.94005406e-01],\n",
       "       [ 0.00000000e+00,  5.89646257e-01, -9.34731519e-01,\n",
       "         3.07119284e-01, -1.06948190e+00,  2.10430991e+00,\n",
       "         6.71420503e-02, -6.54770759e-01, -2.24643802e-02,\n",
       "        -5.75799522e-01,  6.64638725e-01,  6.09237404e-01,\n",
       "         3.00549557e-02,  1.01833465e+00, -4.99631108e-01,\n",
       "        -1.63720925e-03,  3.30463982e-02, -3.47769718e-01,\n",
       "         1.06019550e+00, -1.63668632e+00, -1.68391518e-03]])"
      ]
     },
     "execution_count": 112,
     "metadata": {},
     "output_type": "execute_result"
    }
   ],
   "source": [
    "reg.coef_"
   ]
  },
  {
   "cell_type": "code",
   "execution_count": 113,
   "id": "c61014f9",
   "metadata": {},
   "outputs": [
    {
     "data": {
      "text/plain": [
       "array([ 2.52493200e-17, -1.60606799e-15])"
      ]
     },
     "execution_count": 113,
     "metadata": {},
     "output_type": "execute_result"
    }
   ],
   "source": [
    "reg.intercept_"
   ]
  },
  {
   "cell_type": "code",
   "execution_count": 114,
   "id": "8f7135fe",
   "metadata": {},
   "outputs": [],
   "source": [
    "predictions = reg.predict(Xt_scaled)"
   ]
  },
  {
   "cell_type": "code",
   "execution_count": 115,
   "id": "44c36588",
   "metadata": {},
   "outputs": [],
   "source": [
    "predictions_2 = reg.predict(X_scaled)"
   ]
  },
  {
   "cell_type": "code",
   "execution_count": 116,
   "id": "87a3d9b4",
   "metadata": {
    "scrolled": true
   },
   "outputs": [
    {
     "data": {
      "text/plain": [
       "array([[-0.66705003,  1.27311259],\n",
       "       [-0.54554728, -0.39380853],\n",
       "       [-0.97693709,  0.96120295],\n",
       "       [ 1.21033262,  0.54761159],\n",
       "       [-1.31654364, -0.05816424],\n",
       "       [ 0.57801028,  1.32910506],\n",
       "       [ 0.75648809, -0.70987206],\n",
       "       [-0.84196319,  0.70532982],\n",
       "       [-0.6737221 ,  1.11045514],\n",
       "       [-1.11273229, -1.2139376 ],\n",
       "       [ 0.84020221, -0.8771998 ],\n",
       "       [-0.73467669, -1.63947066],\n",
       "       [-0.05191588, -0.59832022],\n",
       "       [ 0.38297931,  0.61015796],\n",
       "       [ 0.09509822, -1.416367  ],\n",
       "       [-0.96410098, -0.04056106],\n",
       "       [ 2.02559493, -0.97015966],\n",
       "       [-0.63992147, -0.47898772],\n",
       "       [-0.8593292 ,  0.71342938],\n",
       "       [ 0.97184854, -1.39777502],\n",
       "       [-0.38934639,  1.67437554],\n",
       "       [ 0.52691985, -1.60228672],\n",
       "       [-0.9286408 ,  0.71040469],\n",
       "       [ 0.11169372,  1.47693891],\n",
       "       [ 1.77158221, -0.84001586],\n",
       "       [-0.38752596, -1.45355094],\n",
       "       [-0.00519447, -0.33803261],\n",
       "       [-0.67255364, -0.48676839],\n",
       "       [-1.18809787,  0.49027455],\n",
       "       [ 0.58348849,  0.4034307 ],\n",
       "       [ 1.76311512, -1.10030347],\n",
       "       [-0.1673816 , -0.67268811],\n",
       "       [-1.14618577,  0.29837684],\n",
       "       [ 0.69142696,  1.56391007],\n",
       "       [ 1.84764208,  0.82946113],\n",
       "       [ 1.06881367, -1.11889544],\n",
       "       [-1.13584745, -0.20410973],\n",
       "       [ 0.49575249, -1.34199911],\n",
       "       [ 0.69107134,  0.64734191],\n",
       "       [ 0.28551462,  1.27337555],\n",
       "       [ 0.57143981,  1.82996625],\n",
       "       [-1.5086958 , -0.33103608],\n",
       "       [ 0.03886827,  1.58809808],\n",
       "       [ 2.14413421, -1.43495897],\n",
       "       [-1.29281885,  0.22471455],\n",
       "       [-1.45377825,  0.55321715],\n",
       "       [ 1.42443148,  0.40564627],\n",
       "       [-0.86974372,  0.17202044],\n",
       "       [-0.34619809, -0.67268811]])"
      ]
     },
     "execution_count": 116,
     "metadata": {},
     "output_type": "execute_result"
    }
   ],
   "source": [
    "Yt_scaled"
   ]
  },
  {
   "cell_type": "code",
   "execution_count": 117,
   "id": "93ba4578",
   "metadata": {
    "scrolled": true
   },
   "outputs": [
    {
     "data": {
      "text/plain": [
       "<matplotlib.collections.PathCollection at 0x2a71dccd820>"
      ]
     },
     "execution_count": 117,
     "metadata": {},
     "output_type": "execute_result"
    },
    {
     "data": {
      "image/png": "[encoded data removed]",
      "text/plain": [
       "<Figure size 432x288 with 1 Axes>"
      ]
     },
     "metadata": {
      "needs_background": "light"
     },
     "output_type": "display_data"
    }
   ],
   "source": [
    "plt.scatter(Yt_scaled,predictions)"
   ]
  },
  {
   "cell_type": "code",
   "execution_count": 118,
   "id": "b570ac72",
   "metadata": {},
   "outputs": [
    {
     "data": {
      "text/html": [
       "<div>\n",
       "<style scoped>\n",
       "    .dataframe tbody tr th:only-of-type {\n",
       "        vertical-align: middle;\n",
       "    }\n",
       "\n",
       "    .dataframe tbody tr th {\n",
       "        vertical-align: top;\n",
       "    }\n",
       "\n",
       "    .dataframe thead th {\n",
       "        text-align: right;\n",
       "    }\n",
       "</style>\n",
       "<table border=\"1\" class=\"dataframe\">\n",
       "  <thead>\n",
       "    <tr style=\"text-align: right;\">\n",
       "      <th></th>\n",
       "      <th>A</th>\n",
       "      <th>B</th>\n",
       "    </tr>\n",
       "  </thead>\n",
       "  <tbody>\n",
       "    <tr>\n",
       "      <th>0</th>\n",
       "      <td>-0.962462</td>\n",
       "      <td>1.434968</td>\n",
       "    </tr>\n",
       "    <tr>\n",
       "      <th>1</th>\n",
       "      <td>-0.643767</td>\n",
       "      <td>-0.272948</td>\n",
       "    </tr>\n",
       "    <tr>\n",
       "      <th>2</th>\n",
       "      <td>-1.220003</td>\n",
       "      <td>1.054733</td>\n",
       "    </tr>\n",
       "    <tr>\n",
       "      <th>3</th>\n",
       "      <td>1.458973</td>\n",
       "      <td>0.306618</td>\n",
       "    </tr>\n",
       "    <tr>\n",
       "      <th>4</th>\n",
       "      <td>-1.745486</td>\n",
       "      <td>-0.103305</td>\n",
       "    </tr>\n",
       "    <tr>\n",
       "      <th>5</th>\n",
       "      <td>0.645221</td>\n",
       "      <td>0.991124</td>\n",
       "    </tr>\n",
       "    <tr>\n",
       "      <th>6</th>\n",
       "      <td>0.950592</td>\n",
       "      <td>-0.835883</td>\n",
       "    </tr>\n",
       "    <tr>\n",
       "      <th>7</th>\n",
       "      <td>-1.043372</td>\n",
       "      <td>0.527414</td>\n",
       "    </tr>\n",
       "    <tr>\n",
       "      <th>8</th>\n",
       "      <td>-0.950146</td>\n",
       "      <td>1.328151</td>\n",
       "    </tr>\n",
       "    <tr>\n",
       "      <th>9</th>\n",
       "      <td>-1.313201</td>\n",
       "      <td>-0.653580</td>\n",
       "    </tr>\n",
       "    <tr>\n",
       "      <th>10</th>\n",
       "      <td>1.156660</td>\n",
       "      <td>-1.511880</td>\n",
       "    </tr>\n",
       "    <tr>\n",
       "      <th>11</th>\n",
       "      <td>-0.988636</td>\n",
       "      <td>-1.115270</td>\n",
       "    </tr>\n",
       "    <tr>\n",
       "      <th>12</th>\n",
       "      <td>-0.063395</td>\n",
       "      <td>-0.703369</td>\n",
       "    </tr>\n",
       "    <tr>\n",
       "      <th>13</th>\n",
       "      <td>0.576216</td>\n",
       "      <td>0.211804</td>\n",
       "    </tr>\n",
       "    <tr>\n",
       "      <th>14</th>\n",
       "      <td>0.248459</td>\n",
       "      <td>-1.325461</td>\n",
       "    </tr>\n",
       "    <tr>\n",
       "      <th>15</th>\n",
       "      <td>-1.258836</td>\n",
       "      <td>-0.268472</td>\n",
       "    </tr>\n",
       "    <tr>\n",
       "      <th>16</th>\n",
       "      <td>2.419897</td>\n",
       "      <td>-1.748180</td>\n",
       "    </tr>\n",
       "    <tr>\n",
       "      <th>17</th>\n",
       "      <td>-0.664344</td>\n",
       "      <td>-0.452364</td>\n",
       "    </tr>\n",
       "    <tr>\n",
       "      <th>18</th>\n",
       "      <td>-1.011099</td>\n",
       "      <td>0.745944</td>\n",
       "    </tr>\n",
       "    <tr>\n",
       "      <th>19</th>\n",
       "      <td>1.300036</td>\n",
       "      <td>-0.713869</td>\n",
       "    </tr>\n",
       "    <tr>\n",
       "      <th>20</th>\n",
       "      <td>-0.574201</td>\n",
       "      <td>1.557118</td>\n",
       "    </tr>\n",
       "    <tr>\n",
       "      <th>21</th>\n",
       "      <td>0.723972</td>\n",
       "      <td>-1.361154</td>\n",
       "    </tr>\n",
       "    <tr>\n",
       "      <th>22</th>\n",
       "      <td>-1.253953</td>\n",
       "      <td>0.798867</td>\n",
       "    </tr>\n",
       "    <tr>\n",
       "      <th>23</th>\n",
       "      <td>0.073865</td>\n",
       "      <td>1.818682</td>\n",
       "    </tr>\n",
       "    <tr>\n",
       "      <th>24</th>\n",
       "      <td>2.221372</td>\n",
       "      <td>-0.765005</td>\n",
       "    </tr>\n",
       "    <tr>\n",
       "      <th>25</th>\n",
       "      <td>-0.419383</td>\n",
       "      <td>-0.794926</td>\n",
       "    </tr>\n",
       "    <tr>\n",
       "      <th>26</th>\n",
       "      <td>0.018043</td>\n",
       "      <td>-0.316944</td>\n",
       "    </tr>\n",
       "    <tr>\n",
       "      <th>27</th>\n",
       "      <td>-0.851143</td>\n",
       "      <td>-0.571519</td>\n",
       "    </tr>\n",
       "    <tr>\n",
       "      <th>28</th>\n",
       "      <td>-1.503832</td>\n",
       "      <td>0.477520</td>\n",
       "    </tr>\n",
       "    <tr>\n",
       "      <th>29</th>\n",
       "      <td>0.711381</td>\n",
       "      <td>0.246008</td>\n",
       "    </tr>\n",
       "    <tr>\n",
       "      <th>30</th>\n",
       "      <td>2.174596</td>\n",
       "      <td>-1.043264</td>\n",
       "    </tr>\n",
       "    <tr>\n",
       "      <th>31</th>\n",
       "      <td>-0.167170</td>\n",
       "      <td>-0.606046</td>\n",
       "    </tr>\n",
       "    <tr>\n",
       "      <th>32</th>\n",
       "      <td>-1.511326</td>\n",
       "      <td>0.437933</td>\n",
       "    </tr>\n",
       "    <tr>\n",
       "      <th>33</th>\n",
       "      <td>1.074929</td>\n",
       "      <td>1.537868</td>\n",
       "    </tr>\n",
       "    <tr>\n",
       "      <th>34</th>\n",
       "      <td>2.211796</td>\n",
       "      <td>0.429635</td>\n",
       "    </tr>\n",
       "    <tr>\n",
       "      <th>35</th>\n",
       "      <td>1.492759</td>\n",
       "      <td>-0.758471</td>\n",
       "    </tr>\n",
       "    <tr>\n",
       "      <th>36</th>\n",
       "      <td>-1.436936</td>\n",
       "      <td>-0.399452</td>\n",
       "    </tr>\n",
       "    <tr>\n",
       "      <th>37</th>\n",
       "      <td>0.676635</td>\n",
       "      <td>-1.059164</td>\n",
       "    </tr>\n",
       "    <tr>\n",
       "      <th>38</th>\n",
       "      <td>0.800208</td>\n",
       "      <td>0.317458</td>\n",
       "    </tr>\n",
       "    <tr>\n",
       "      <th>39</th>\n",
       "      <td>0.418035</td>\n",
       "      <td>1.377566</td>\n",
       "    </tr>\n",
       "    <tr>\n",
       "      <th>40</th>\n",
       "      <td>0.750962</td>\n",
       "      <td>2.079140</td>\n",
       "    </tr>\n",
       "    <tr>\n",
       "      <th>41</th>\n",
       "      <td>-1.922266</td>\n",
       "      <td>-0.350540</td>\n",
       "    </tr>\n",
       "    <tr>\n",
       "      <th>42</th>\n",
       "      <td>0.137107</td>\n",
       "      <td>1.574747</td>\n",
       "    </tr>\n",
       "    <tr>\n",
       "      <th>43</th>\n",
       "      <td>2.592825</td>\n",
       "      <td>-1.445536</td>\n",
       "    </tr>\n",
       "    <tr>\n",
       "      <th>44</th>\n",
       "      <td>-1.689579</td>\n",
       "      <td>-0.005119</td>\n",
       "    </tr>\n",
       "    <tr>\n",
       "      <th>45</th>\n",
       "      <td>-1.953741</td>\n",
       "      <td>0.401661</td>\n",
       "    </tr>\n",
       "    <tr>\n",
       "      <th>46</th>\n",
       "      <td>1.836547</td>\n",
       "      <td>0.000784</td>\n",
       "    </tr>\n",
       "    <tr>\n",
       "      <th>47</th>\n",
       "      <td>-1.129301</td>\n",
       "      <td>-0.046261</td>\n",
       "    </tr>\n",
       "    <tr>\n",
       "      <th>48</th>\n",
       "      <td>-0.393510</td>\n",
       "      <td>-0.427764</td>\n",
       "    </tr>\n",
       "  </tbody>\n",
       "</table>\n",
       "</div>"
      ],
      "text/plain": [
       "           A         B\n",
       "0  -0.962462  1.434968\n",
       "1  -0.643767 -0.272948\n",
       "2  -1.220003  1.054733\n",
       "3   1.458973  0.306618\n",
       "4  -1.745486 -0.103305\n",
       "5   0.645221  0.991124\n",
       "6   0.950592 -0.835883\n",
       "7  -1.043372  0.527414\n",
       "8  -0.950146  1.328151\n",
       "9  -1.313201 -0.653580\n",
       "10  1.156660 -1.511880\n",
       "11 -0.988636 -1.115270\n",
       "12 -0.063395 -0.703369\n",
       "13  0.576216  0.211804\n",
       "14  0.248459 -1.325461\n",
       "15 -1.258836 -0.268472\n",
       "16  2.419897 -1.748180\n",
       "17 -0.664344 -0.452364\n",
       "18 -1.011099  0.745944\n",
       "19  1.300036 -0.713869\n",
       "20 -0.574201  1.557118\n",
       "21  0.723972 -1.361154\n",
       "22 -1.253953  0.798867\n",
       "23  0.073865  1.818682\n",
       "24  2.221372 -0.765005\n",
       "25 -0.419383 -0.794926\n",
       "26  0.018043 -0.316944\n",
       "27 -0.851143 -0.571519\n",
       "28 -1.503832  0.477520\n",
       "29  0.711381  0.246008\n",
       "30  2.174596 -1.043264\n",
       "31 -0.167170 -0.606046\n",
       "32 -1.511326  0.437933\n",
       "33  1.074929  1.537868\n",
       "34  2.211796  0.429635\n",
       "35  1.492759 -0.758471\n",
       "36 -1.436936 -0.399452\n",
       "37  0.676635 -1.059164\n",
       "38  0.800208  0.317458\n",
       "39  0.418035  1.377566\n",
       "40  0.750962  2.079140\n",
       "41 -1.922266 -0.350540\n",
       "42  0.137107  1.574747\n",
       "43  2.592825 -1.445536\n",
       "44 -1.689579 -0.005119\n",
       "45 -1.953741  0.401661\n",
       "46  1.836547  0.000784\n",
       "47 -1.129301 -0.046261\n",
       "48 -0.393510 -0.427764"
      ]
     },
     "execution_count": 118,
     "metadata": {},
     "output_type": "execute_result"
    }
   ],
   "source": [
    "pred_df = pd.DataFrame(predictions,columns=['A','B'])\n",
    "pred_df"
   ]
  },
  {
   "cell_type": "code",
   "execution_count": 119,
   "id": "1b948707",
   "metadata": {},
   "outputs": [],
   "source": [
    "Y_stress = pd.DataFrame(Y_scaled,columns=['A','B'])\n",
    "Yt_stress = pd.DataFrame(Yt_scaled,columns=['A','B'])\n"
   ]
  },
  {
   "cell_type": "code",
   "execution_count": 120,
   "id": "768cb004",
   "metadata": {},
   "outputs": [],
   "source": [
    "from sklearn import metrics"
   ]
  },
  {
   "cell_type": "code",
   "execution_count": 121,
   "id": "dcb91283",
   "metadata": {},
   "outputs": [
    {
     "name": "stdout",
     "output_type": "stream",
     "text": [
      "MSE_for_trained_data 0.04516367920928367\n"
     ]
    }
   ],
   "source": [
    "print('MSE_for_trained_data',metrics.mean_squared_error(Y_scaled,predictions_2))"
   ]
  },
  {
   "cell_type": "code",
   "execution_count": 122,
   "id": "ab6293a8",
   "metadata": {},
   "outputs": [
    {
     "name": "stdout",
     "output_type": "stream",
     "text": [
      "MAE: 0.23022803105219364\n",
      "MSE: 0.08120128170026422\n",
      "RMSE: 0.28495838590970474\n"
     ]
    }
   ],
   "source": [
    "print('MAE:',metrics.mean_absolute_error(Yt_scaled,predictions))\n",
    "print('MSE:',metrics.mean_squared_error(Yt_scaled,predictions))\n",
    "print('RMSE:',np.sqrt(metrics.mean_squared_error(Yt_scaled,predictions)))"
   ]
  },
  {
   "cell_type": "code",
   "execution_count": 123,
   "id": "ac0efbad",
   "metadata": {},
   "outputs": [
    {
     "ename": "ValueError",
     "evalue": "The bias_variance_decomp does not support pandas DataFrames yet. Please check the inputs to X_train, y_train, X_test, y_test. If e.g., X_train is a pandas DataFrame, try passing it as NumPy array via X_train=X_train.values.",
     "output_type": "error",
     "traceback": [
      "\u001b[1;31m---------------------------------------------------------------------------\u001b[0m",
      "\u001b[1;31mValueError\u001b[0m                                Traceback (most recent call last)",
      "\u001b[1;32m<ipython-input-123-005453ec5adc>\u001b[0m in \u001b[0;36m<module>\u001b[1;34m\u001b[0m\n\u001b[1;32m----> 1\u001b[1;33m \u001b[0mmse\u001b[0m\u001b[1;33m,\u001b[0m\u001b[0mbias\u001b[0m\u001b[1;33m,\u001b[0m\u001b[0mvar\u001b[0m \u001b[1;33m=\u001b[0m \u001b[0mbias_variance_decomp\u001b[0m\u001b[1;33m(\u001b[0m\u001b[0mreg\u001b[0m\u001b[1;33m,\u001b[0m\u001b[0mX_scaled\u001b[0m\u001b[1;33m,\u001b[0m\u001b[0mY_stress\u001b[0m\u001b[1;33m[\u001b[0m\u001b[1;34m'B'\u001b[0m\u001b[1;33m]\u001b[0m\u001b[1;33m,\u001b[0m\u001b[0mXt_scaled\u001b[0m\u001b[1;33m,\u001b[0m\u001b[0mYt_stress\u001b[0m\u001b[1;33m[\u001b[0m\u001b[1;34m'B'\u001b[0m\u001b[1;33m]\u001b[0m\u001b[1;33m,\u001b[0m\u001b[0mloss\u001b[0m\u001b[1;33m=\u001b[0m\u001b[1;34m'mse'\u001b[0m\u001b[1;33m,\u001b[0m \u001b[0mnum_rounds\u001b[0m\u001b[1;33m=\u001b[0m\u001b[1;36m200\u001b[0m\u001b[1;33m,\u001b[0m \u001b[0mrandom_seed\u001b[0m\u001b[1;33m=\u001b[0m\u001b[1;36m1\u001b[0m\u001b[1;33m)\u001b[0m\u001b[1;33m\u001b[0m\u001b[1;33m\u001b[0m\u001b[0m\n\u001b[0m\u001b[0;32m      2\u001b[0m \u001b[1;31m#mse,bias,var = bias_variance_decomp(reg,x_train,y_train,x_test,y_test,loss='mse', num_rounds=200, random_seed=1)\u001b[0m\u001b[1;33m\u001b[0m\u001b[1;33m\u001b[0m\u001b[1;33m\u001b[0m\u001b[0m\n\u001b[0;32m      3\u001b[0m \u001b[1;31m#mse, bias, var = bias_variance_decomp(reg, X_train, y_train, X_test, y_test, loss='mse', num_rounds=200, random_seed=1)\u001b[0m\u001b[1;33m\u001b[0m\u001b[1;33m\u001b[0m\u001b[1;33m\u001b[0m\u001b[0m\n\u001b[0;32m      4\u001b[0m \u001b[1;31m#print('MSE: %.3f' % mse)\u001b[0m\u001b[1;33m\u001b[0m\u001b[1;33m\u001b[0m\u001b[1;33m\u001b[0m\u001b[0m\n\u001b[0;32m      5\u001b[0m \u001b[1;31m#print('Bias: %.3f' % bias)\u001b[0m\u001b[1;33m\u001b[0m\u001b[1;33m\u001b[0m\u001b[1;33m\u001b[0m\u001b[0m\n",
      "\u001b[1;32mC:\\ProgramData\\Anaconda3\\lib\\site-packages\\mlxtend\\evaluate\\bias_variance_decomp.py\u001b[0m in \u001b[0;36mbias_variance_decomp\u001b[1;34m(estimator, X_train, y_train, X_test, y_test, loss, num_rounds, random_seed, **fit_params)\u001b[0m\n\u001b[0;32m     77\u001b[0m     \u001b[1;32mfor\u001b[0m \u001b[0mary\u001b[0m \u001b[1;32min\u001b[0m \u001b[1;33m(\u001b[0m\u001b[0mX_train\u001b[0m\u001b[1;33m,\u001b[0m \u001b[0my_train\u001b[0m\u001b[1;33m,\u001b[0m \u001b[0mX_test\u001b[0m\u001b[1;33m,\u001b[0m \u001b[0my_test\u001b[0m\u001b[1;33m)\u001b[0m\u001b[1;33m:\u001b[0m\u001b[1;33m\u001b[0m\u001b[1;33m\u001b[0m\u001b[0m\n\u001b[0;32m     78\u001b[0m         \u001b[1;32mif\u001b[0m \u001b[0mhasattr\u001b[0m\u001b[1;33m(\u001b[0m\u001b[0mary\u001b[0m\u001b[1;33m,\u001b[0m \u001b[1;34m'loc'\u001b[0m\u001b[1;33m)\u001b[0m\u001b[1;33m:\u001b[0m\u001b[1;33m\u001b[0m\u001b[1;33m\u001b[0m\u001b[0m\n\u001b[1;32m---> 79\u001b[1;33m             raise ValueError('The bias_variance_decomp does not '\n\u001b[0m\u001b[0;32m     80\u001b[0m                              \u001b[1;34m'support pandas DataFrames yet. '\u001b[0m\u001b[1;33m\u001b[0m\u001b[1;33m\u001b[0m\u001b[0m\n\u001b[0;32m     81\u001b[0m                              \u001b[1;34m'Please check the inputs to '\u001b[0m\u001b[1;33m\u001b[0m\u001b[1;33m\u001b[0m\u001b[0m\n",
      "\u001b[1;31mValueError\u001b[0m: The bias_variance_decomp does not support pandas DataFrames yet. Please check the inputs to X_train, y_train, X_test, y_test. If e.g., X_train is a pandas DataFrame, try passing it as NumPy array via X_train=X_train.values."
     ]
    }
   ],
   "source": [
    "mse,bias,var = bias_variance_decomp(reg,X_scaled,Y_stress['B'],Xt_scaled,Yt_stress['B'],loss='mse', num_rounds=200, random_seed=1)\n",
    "#mse,bias,var = bias_variance_decomp(reg,x_train,y_train,x_test,y_test,loss='mse', num_rounds=200, random_seed=1)\n",
    "#mse, bias, var = bias_variance_decomp(reg, X_train, y_train, X_test, y_test, loss='mse', num_rounds=200, random_seed=1)\n",
    "#print('MSE: %.3f' % mse)\n",
    "#print('Bias: %.3f' % bias)\n",
    "#print('Variance: %.3f' % var)"
   ]
  },
  {
   "cell_type": "code",
   "execution_count": 124,
   "id": "ce483522",
   "metadata": {},
   "outputs": [
    {
     "ename": "AttributeError",
     "evalue": "'numpy.ndarray' object has no attribute 'to_numpy'",
     "output_type": "error",
     "traceback": [
      "\u001b[1;31m---------------------------------------------------------------------------\u001b[0m",
      "\u001b[1;31mAttributeError\u001b[0m                            Traceback (most recent call last)",
      "\u001b[1;32m<ipython-input-124-710948d1f0c4>\u001b[0m in \u001b[0;36m<module>\u001b[1;34m\u001b[0m\n\u001b[1;32m----> 1\u001b[1;33m \u001b[0mx1_train\u001b[0m \u001b[1;33m=\u001b[0m \u001b[0mx_train\u001b[0m\u001b[1;33m.\u001b[0m\u001b[0mto_numpy\u001b[0m\u001b[1;33m(\u001b[0m\u001b[1;33m)\u001b[0m\u001b[1;33m\u001b[0m\u001b[1;33m\u001b[0m\u001b[0m\n\u001b[0m",
      "\u001b[1;31mAttributeError\u001b[0m: 'numpy.ndarray' object has no attribute 'to_numpy'"
     ]
    }
   ],
   "source": [
    "x1_train = x_train.to_numpy()"
   ]
  },
  {
   "cell_type": "code",
   "execution_count": 125,
   "id": "dc6eb346",
   "metadata": {},
   "outputs": [
    {
     "data": {
      "text/plain": [
       "0.9187987182997357"
      ]
     },
     "execution_count": 125,
     "metadata": {},
     "output_type": "execute_result"
    }
   ],
   "source": [
    "explained_variance_score(Yt_scaled,predictions)"
   ]
  },
  {
   "cell_type": "code",
   "execution_count": 126,
   "id": "4ccc8e79",
   "metadata": {},
   "outputs": [
    {
     "data": {
      "text/plain": [
       "array([[-9.62461839e-01,  1.43496757e+00],\n",
       "       [-6.43766691e-01, -2.72947512e-01],\n",
       "       [-1.22000280e+00,  1.05473278e+00],\n",
       "       [ 1.45897269e+00,  3.06618365e-01],\n",
       "       [-1.74548585e+00, -1.03304829e-01],\n",
       "       [ 6.45221343e-01,  9.91123613e-01],\n",
       "       [ 9.50591914e-01, -8.35883102e-01],\n",
       "       [-1.04337169e+00,  5.27414222e-01],\n",
       "       [-9.50146105e-01,  1.32815135e+00],\n",
       "       [-1.31320088e+00, -6.53580157e-01],\n",
       "       [ 1.15666006e+00, -1.51188027e+00],\n",
       "       [-9.88636326e-01, -1.11526966e+00],\n",
       "       [-6.33949226e-02, -7.03369309e-01],\n",
       "       [ 5.76215645e-01,  2.11804233e-01],\n",
       "       [ 2.48458747e-01, -1.32546103e+00],\n",
       "       [-1.25883608e+00, -2.68472132e-01],\n",
       "       [ 2.41989713e+00, -1.74818037e+00],\n",
       "       [-6.64343996e-01, -4.52364140e-01],\n",
       "       [-1.01109900e+00,  7.45944483e-01],\n",
       "       [ 1.30003630e+00, -7.13868507e-01],\n",
       "       [-5.74201496e-01,  1.55711817e+00],\n",
       "       [ 7.23972460e-01, -1.36115389e+00],\n",
       "       [-1.25395335e+00,  7.98867404e-01],\n",
       "       [ 7.38648685e-02,  1.81868189e+00],\n",
       "       [ 2.22137201e+00, -7.65005438e-01],\n",
       "       [-4.19382878e-01, -7.94925520e-01],\n",
       "       [ 1.80426233e-02, -3.16943864e-01],\n",
       "       [-8.51143279e-01, -5.71518812e-01],\n",
       "       [-1.50383182e+00,  4.77519621e-01],\n",
       "       [ 7.11381076e-01,  2.46007977e-01],\n",
       "       [ 2.17459624e+00, -1.04326389e+00],\n",
       "       [-1.67169770e-01, -6.06045807e-01],\n",
       "       [-1.51132628e+00,  4.37933006e-01],\n",
       "       [ 1.07492903e+00,  1.53786779e+00],\n",
       "       [ 2.21179564e+00,  4.29635324e-01],\n",
       "       [ 1.49275866e+00, -7.58471352e-01],\n",
       "       [-1.43693576e+00, -3.99452009e-01],\n",
       "       [ 6.76635360e-01, -1.05916395e+00],\n",
       "       [ 8.00208401e-01,  3.17458294e-01],\n",
       "       [ 4.18034603e-01,  1.37756633e+00],\n",
       "       [ 7.50962245e-01,  2.07913951e+00],\n",
       "       [-1.92226558e+00, -3.50539994e-01],\n",
       "       [ 1.37107429e-01,  1.57474746e+00],\n",
       "       [ 2.59282525e+00, -1.44553564e+00],\n",
       "       [-1.68957882e+00, -5.11892897e-03],\n",
       "       [-1.95374051e+00,  4.01661041e-01],\n",
       "       [ 1.83654687e+00,  7.84173016e-04],\n",
       "       [-1.12930108e+00, -4.62605662e-02],\n",
       "       [-3.93509803e-01, -4.27763943e-01]])"
      ]
     },
     "execution_count": 126,
     "metadata": {},
     "output_type": "execute_result"
    }
   ],
   "source": [
    "predictions\n"
   ]
  },
  {
   "cell_type": "code",
   "execution_count": 127,
   "id": "3ca19ebe",
   "metadata": {},
   "outputs": [
    {
     "data": {
      "text/plain": [
       "0.7414944074722281"
      ]
     },
     "execution_count": 127,
     "metadata": {},
     "output_type": "execute_result"
    }
   ],
   "source": [
    "np.mean(cross_val_score(reg, x_poly, y, cv=5))"
   ]
  },
  {
   "cell_type": "code",
   "execution_count": 129,
   "id": "bf9536e4",
   "metadata": {},
   "outputs": [
    {
     "data": {
      "text/plain": [
       "0.9527650014496988"
      ]
     },
     "execution_count": 129,
     "metadata": {},
     "output_type": "execute_result"
    }
   ],
   "source": [
    "from sklearn.metrics import r2_score\n",
    "R_sqrd = r2_score(pred_df['A'],Yt_stress['A'])\n",
    "R_sqrd"
   ]
  },
  {
   "cell_type": "code",
   "execution_count": null,
   "id": "8c2f9419",
   "metadata": {},
   "outputs": [],
   "source": []
  }
 ],
 "metadata": {
  "kernelspec": {
   "display_name": "Python 3",
   "language": "python",
   "name": "python3"
  },
  "language_info": {
   "codemirror_mode": {
    "name": "ipython",
    "version": 3
   },
   "file_extension": ".py",
   "mimetype": "text/x-python",
   "name": "python",
   "nbconvert_exporter": "python",
   "pygments_lexer": "ipython3",
   "version": "3.8.8"
  }
 },
 "nbformat": 4,
 "nbformat_minor": 5
}
